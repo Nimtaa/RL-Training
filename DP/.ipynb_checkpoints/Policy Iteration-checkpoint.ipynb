{
 "cells": [
  {
   "cell_type": "markdown",
   "metadata": {},
   "source": [
    "# GridWorld Problem\n",
    "\n",
    "### Policy Evaluation\n",
    "This algorithm uses two array for value functions, old and new ones.  \n",
    "Using one array for value function, also converges (faster) to optimal value function."
   ]
  },
  {
   "cell_type": "code",
   "execution_count": 1,
   "metadata": {},
   "outputs": [],
   "source": [
    "import gym\n",
    "import numpy as np\n",
    "import sys\n",
    "if \"../\" not in sys.path:\n",
    "  sys.path.append(\"../\") \n",
    "from lib.envs.gridworld import GridworldEnv"
   ]
  },
  {
   "cell_type": "code",
   "execution_count": 2,
   "metadata": {},
   "outputs": [],
   "source": [
    "env = GridworldEnv()"
   ]
  },
  {
   "cell_type": "code",
   "execution_count": 9,
   "metadata": {},
   "outputs": [],
   "source": [
    "def policy_eval(policy, env, discount_factor=1.0, theta=0.00001):\n",
    "    \"\"\"\n",
    "    Evaluate a policy given an environment and a full description of the environment's dynamics.\n",
    "    Args:\n",
    "        policy: [S, A] shaped matrix representing the policy.\n",
    "        env: OpenAI env. env.P represents the transition probabilities of the environment.\n",
    "            env.P[s][a] is a list of transition tuples (prob, next_state, reward, done).\n",
    "            env.nS is a number of states in the environment. \n",
    "            env.nA is a number of actions in the environment.\n",
    "        theta: We stop evaluation once our value function change is less than theta for all states.\n",
    "        discount_factor: Gamma discount factor.\n",
    "    \n",
    "    Returns:\n",
    "        Vector of length env.nS representing the value function.\n",
    "    \"\"\"\n",
    "    valueFunction = [0 for i in range(env.nS)]\n",
    "    delta = 0.1\n",
    "    iteration = 0\n",
    "    while (True):\n",
    "        iteration = iteration + 1\n",
    "        vtemp = [0 for i in range(env.nS)]\n",
    "        delta = 0\n",
    "        for i in range (env.nS):\n",
    "            temp = valueFunction[i]\n",
    "            s = 0\n",
    "            for a in range(env.nA):\n",
    "                s+= policy[i][a] *  env.P[i][a][0][0] * (env.P[i][a][0][2] + discount_factor * valueFunction[env.P[i][a][0][1]])\n",
    "            vtemp[i]= s\n",
    "#             print(\"state \",i, \"value \", s)\n",
    "            delta = max(delta, np.abs(s - temp))\n",
    "#             print(\"delta \\n\",delta)\n",
    "        valueFunction = vtemp\n",
    "        if (delta<theta):\n",
    "            print(\"iteration: \",iteration)\n",
    "            break\n",
    "    return valueFunction"
   ]
  },
  {
   "cell_type": "code",
   "execution_count": 11,
   "metadata": {},
   "outputs": [
    {
     "name": "stdout",
     "output_type": "stream",
     "text": [
      "iteration:  215\n",
      "[0.0, -13.99989314905062, -19.999841666134284, -21.999822815040588, -13.99989314905062, -17.99986051722798, -19.999842725281216, -19.999841666134284, -19.99984166613428, -19.999842725281212, -17.99986051722798, -13.99989314905062, -21.999822815040584, -19.999841666134284, -13.999893149050623, 0.0]\n"
     ]
    }
   ],
   "source": [
    "random_policy = np.ones([env.nS, env.nA]) / env.nA\n",
    "\n",
    "v = policy_eval(random_policy, env)\n",
    "print(v)\n"
   ]
  },
  {
   "cell_type": "markdown",
   "metadata": {},
   "source": [
    "### Policy Iteration"
   ]
  },
  {
   "cell_type": "code",
   "execution_count": 22,
   "metadata": {},
   "outputs": [],
   "source": [
    "#function to calculate action value for each state\n",
    "def Action_Helper(state, value, discount_factor=1.0):\n",
    "    action_value = np.zeros(env.nA)\n",
    "    for a in range(env.nA):\n",
    "        # prob * (reward + discount * value_next)\n",
    "        action_value[a] += env.P[state][a][0][0] * (env.P[state][a][0][2] + discount_factor * value[env.P[state][a][0][1]])\n",
    "    return action_value\n",
    "          \n",
    "\n",
    "def policy_improvement(env, policy_eval_fn=policy_eval, discount_factor=1.0):\n",
    "    \"\"\"\n",
    "    Policy Improvement Algorithm. Iteratively evaluates and improves a policy\n",
    "    until an optimal policy is found.\n",
    "    \n",
    "    Args:\n",
    "        env: The OpenAI envrionment.\n",
    "        policy_eval_fn: Policy Evaluation function that takes 3 arguments:\n",
    "            policy, env, discount_factor.\n",
    "        discount_factor: gamma discount factor.\n",
    "        \n",
    "    Returns:\n",
    "        A tuple (policy, V). \n",
    "        policy is the optimal policy, a matrix of shape [S, A] where each state s\n",
    "        contains a valid probability distribution over actions.\n",
    "        V is the value function for the optimal policy.\n",
    "        \n",
    "    \"\"\" \n",
    "    # Start with a random policy\n",
    "    policy = np.ones([env.nS, env.nA]) / env.nA\n",
    "    while True:\n",
    "        policy_stable = True\n",
    "        value = policy_eval_fn(policy,env,discount_factor)\n",
    "        for s in range(env.nS):\n",
    "            action_selected = np.argmax(policy[s])\n",
    "            greedy_action = np.argmax(Action_Helper(s,value))\n",
    "            \n",
    "            if (action_selected != greedy_action):\n",
    "                policy_stable = False\n",
    "            policy[s] = np.eye(env.nA)[greedy_action]\n",
    "        if policy_stable:\n",
    "            return policy, value"
   ]
  },
  {
   "cell_type": "code",
   "execution_count": 23,
   "metadata": {},
   "outputs": [
    {
     "name": "stdout",
     "output_type": "stream",
     "text": [
      "iteration:  215\n",
      "iteration:  4\n",
      "iteration:  4\n",
      "Policy Probability Distribution:\n",
      "[[1. 0. 0. 0.]\n",
      " [0. 0. 0. 1.]\n",
      " [0. 0. 0. 1.]\n",
      " [0. 0. 1. 0.]\n",
      " [1. 0. 0. 0.]\n",
      " [1. 0. 0. 0.]\n",
      " [1. 0. 0. 0.]\n",
      " [0. 0. 1. 0.]\n",
      " [1. 0. 0. 0.]\n",
      " [1. 0. 0. 0.]\n",
      " [0. 1. 0. 0.]\n",
      " [0. 0. 1. 0.]\n",
      " [1. 0. 0. 0.]\n",
      " [0. 1. 0. 0.]\n",
      " [0. 1. 0. 0.]\n",
      " [1. 0. 0. 0.]]\n",
      "\n",
      "Reshaped Grid Policy (0=up, 1=right, 2=down, 3=left):\n",
      "[[0 3 3 2]\n",
      " [0 0 0 2]\n",
      " [0 0 1 2]\n",
      " [0 1 1 0]]\n",
      "\n",
      "Value Function:\n",
      "[0.0, -1.0, -2.0, -3.0, -1.0, -2.0, -3.0, -2.0, -2.0, -3.0, -2.0, -1.0, -3.0, -2.0, -1.0, 0.0]\n",
      "\n",
      "Reshaped Grid Value Function:\n",
      "[0.0, -1.0, -2.0, -3.0, -1.0, -2.0, -3.0, -2.0, -2.0, -3.0, -2.0, -1.0, -3.0, -2.0, -1.0, 0.0]\n",
      "\n"
     ]
    }
   ],
   "source": [
    "#Test \n",
    "\n",
    "policy, v = policy_improvement(env)\n",
    "print(\"Policy Probability Distribution:\")\n",
    "print(policy)\n",
    "print(\"\")\n",
    "\n",
    "print(\"Reshaped Grid Policy (0=up, 1=right, 2=down, 3=left):\")\n",
    "print(np.reshape(np.argmax(policy, axis=1), env.shape))\n",
    "print(\"\")\n",
    "\n",
    "print(\"Value Function:\")\n",
    "print(v)\n",
    "print(\"\")\n",
    "\n",
    "print(\"Reshaped Grid Value Function:\")\n",
    "print(v)\n",
    "print(\"\")"
   ]
  },
  {
   "cell_type": "code",
   "execution_count": null,
   "metadata": {},
   "outputs": [],
   "source": []
  }
 ],
 "metadata": {
  "kernelspec": {
   "display_name": "Python 3",
   "language": "python",
   "name": "python3"
  },
  "language_info": {
   "codemirror_mode": {
    "name": "ipython",
    "version": 3
   },
   "file_extension": ".py",
   "mimetype": "text/x-python",
   "name": "python",
   "nbconvert_exporter": "python",
   "pygments_lexer": "ipython3",
   "version": "3.7.3"
  }
 },
 "nbformat": 4,
 "nbformat_minor": 2
}
