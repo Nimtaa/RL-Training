{
 "cells": [
  {
   "cell_type": "markdown",
   "metadata": {},
   "source": [
    "# GridWorld\n",
    "\n",
    "### Policy Evaluation\n",
    "This algorithm uses two array for value functions, old and new ones.  \n",
    "Using one array for value function, also converges (faster) to optimal value function."
   ]
  },
  {
   "cell_type": "code",
   "execution_count": 39,
   "metadata": {},
   "outputs": [],
   "source": [
    "import gym\n",
    "import numpy as np\n",
    "import sys\n",
    "if \"../\" not in sys.path:\n",
    "  sys.path.append(\"../\") \n",
    "from lib.envs.gridworld import GridworldEnv"
   ]
  },
  {
   "cell_type": "code",
   "execution_count": 3,
   "metadata": {},
   "outputs": [],
   "source": [
    "env = GridworldEnv()"
   ]
  },
  {
   "cell_type": "code",
   "execution_count": 58,
   "metadata": {},
   "outputs": [],
   "source": [
    "def policy_eval(policy, env, discount_factor=1.0, theta=0.00001):\n",
    "    \"\"\"\n",
    "    Evaluate a policy given an environment and a full description of the environment's dynamics.\n",
    "    Args:\n",
    "        policy: [S, A] shaped matrix representing the policy.\n",
    "        env: OpenAI env. env.P represents the transition probabilities of the environment.\n",
    "            env.P[s][a] is a list of transition tuples (prob, next_state, reward, done).\n",
    "            env.nS is a number of states in the environment. \n",
    "            env.nA is a number of actions in the environment.\n",
    "        theta: We stop evaluation once our value function change is less than theta for all states.\n",
    "        discount_factor: Gamma discount factor.\n",
    "    \n",
    "    Returns:\n",
    "        Vector of length env.nS representing the value function.\n",
    "    \"\"\"\n",
    "    valueFunction = [0 for i in range(env.nS)]\n",
    "    delta = 0.1\n",
    "    iteration = 0\n",
    "    while (True):\n",
    "        iteration = iteration + 1\n",
    "        vtemp = [0 for i in range(env.nS)]\n",
    "        delta = 0\n",
    "        for i in range (env.nS):\n",
    "            temp = valueFunction[i]\n",
    "            s = 0\n",
    "            for a in range(env.nA):\n",
    "                s+= random_policy[i][a] *  env.P[i][a][0][0] * (env.P[i][a][0][2] + discount_factor * valueFunction[env.P[i][a][0][1]])\n",
    "            vtemp[i]= s\n",
    "#             print(\"state \",i, \"value \", s)\n",
    "            delta = max(delta, np.abs(s - temp))\n",
    "#             print(\"delta \\n\",delta)\n",
    "        valueFunction = vtemp\n",
    "        if (delta<theta):\n",
    "            print(\"iteration: \",iteration)\n",
    "            break\n",
    "    return valueFunction"
   ]
  },
  {
   "cell_type": "code",
   "execution_count": 60,
   "metadata": {},
   "outputs": [
    {
     "name": "stdout",
     "output_type": "stream",
     "text": [
      "iteration:  215\n",
      "[0.0, -13.99989314905062, -19.999841666134284, -21.999822815040588, -13.99989314905062, -17.99986051722798, -19.999842725281216, -19.999841666134284, -19.99984166613428, -19.999842725281212, -17.99986051722798, -13.99989314905062, -21.999822815040584, -19.999841666134284, -13.999893149050623, 0.0]\n"
     ]
    }
   ],
   "source": [
    "random_policy = np.ones([env.nS, env.nA]) / env.nA\n",
    "\n",
    "v = policy_eval(random_policy, env)\n",
    "print(v)\n"
   ]
  },
  {
   "cell_type": "code",
   "execution_count": null,
   "metadata": {},
   "outputs": [],
   "source": []
  }
 ],
 "metadata": {
  "kernelspec": {
   "display_name": "Python 3",
   "language": "python",
   "name": "python3"
  },
  "language_info": {
   "codemirror_mode": {
    "name": "ipython",
    "version": 3
   },
   "file_extension": ".py",
   "mimetype": "text/x-python",
   "name": "python",
   "nbconvert_exporter": "python",
   "pygments_lexer": "ipython3",
   "version": "3.7.3"
  }
 },
 "nbformat": 4,
 "nbformat_minor": 2
}
