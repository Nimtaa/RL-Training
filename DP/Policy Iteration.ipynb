{
 "cells": [
  {
   "cell_type": "markdown",
   "metadata": {},
   "source": [
    "# GridWorld\n",
    "\n",
    "Policy Evaluation"
   ]
  },
  {
   "cell_type": "code",
   "execution_count": 2,
   "metadata": {},
   "outputs": [],
   "source": [
    "import gym\n",
    "import numpy as np\n",
    "import sys\n",
    "if \"../\" not in sys.path:\n",
    "  sys.path.append(\"../\") \n",
    "from lib.envs.gridworld import GridworldEnv"
   ]
  },
  {
   "cell_type": "code",
   "execution_count": 3,
   "metadata": {},
   "outputs": [],
   "source": [
    "env = GridworldEnv()"
   ]
  },
  {
   "cell_type": "code",
   "execution_count": 17,
   "metadata": {},
   "outputs": [
    {
     "data": {
      "text/plain": [
       "[2, 3, 4]"
      ]
     },
     "execution_count": 17,
     "metadata": {},
     "output_type": "execute_result"
    }
   ],
   "source": [
    "env.P[2][2][0][2]\n",
    "a = [2,3,4]\n",
    "b = [1,1,1]\n",
    "b = a\n",
    "b\n"
   ]
  },
  {
   "cell_type": "code",
   "execution_count": 31,
   "metadata": {},
   "outputs": [],
   "source": [
    "def policy_eval(policy, env, discount_factor=1.0, theta=0.00001):\n",
    "    \"\"\"\n",
    "    Evaluate a policy given an environment and a full description of the environment's dynamics.\n",
    "    Args:\n",
    "        policy: [S, A] shaped matrix representing the policy.\n",
    "        env: OpenAI env. env.P represents the transition probabilities of the environment.\n",
    "            env.P[s][a] is a list of transition tuples (prob, next_state, reward, done).\n",
    "            env.nS is a number of states in the environment. \n",
    "            env.nA is a number of actions in the environment.\n",
    "        theta: We stop evaluation once our value function change is less than theta for all states.\n",
    "        discount_factor: Gamma discount factor.\n",
    "    \n",
    "    Returns:\n",
    "        Vector of length env.nS representing the value function.\n",
    "    \"\"\"\n",
    "    # Start with a random (all 0) value function\n",
    "    valueFunction = [0 for i in range(env.nS)]\n",
    "    delta = 0.1\n",
    "    while (delta > theta):\n",
    "        vtemp = [0 for i in range(env.nS)]\n",
    "        delta = 0\n",
    "        for i in range (env.nS):\n",
    "            temp = valueFunction[i]\n",
    "            s = 0\n",
    "            for a in range(env.nA):\n",
    "                next_value = 0\n",
    "                if(env.P[i][a][0][3]):\n",
    "                    next_value = valueFunction[env.P[i][a][0][1]]\n",
    "                s+= (1/4) *  env.P[i][a][0][0] * (env.P[i][a][0][2] + discount_factor * next_value)\n",
    "            vtemp[i]= s\n",
    "            print(\"state \",i, \"value \", s)\n",
    "            delta = max(delta, abs(vtemp[i] - temp))\n",
    "            print(\"delta \\n\",delta)\n",
    "        valueFunction = vtemp\n",
    "    return valueFunction"
   ]
  },
  {
   "cell_type": "code",
   "execution_count": 32,
   "metadata": {},
   "outputs": [
    {
     "name": "stdout",
     "output_type": "stream",
     "text": [
      "[[0.25 0.25 0.25 0.25]\n",
      " [0.25 0.25 0.25 0.25]\n",
      " [0.25 0.25 0.25 0.25]\n",
      " [0.25 0.25 0.25 0.25]\n",
      " [0.25 0.25 0.25 0.25]\n",
      " [0.25 0.25 0.25 0.25]\n",
      " [0.25 0.25 0.25 0.25]\n",
      " [0.25 0.25 0.25 0.25]\n",
      " [0.25 0.25 0.25 0.25]\n",
      " [0.25 0.25 0.25 0.25]\n",
      " [0.25 0.25 0.25 0.25]\n",
      " [0.25 0.25 0.25 0.25]\n",
      " [0.25 0.25 0.25 0.25]\n",
      " [0.25 0.25 0.25 0.25]\n",
      " [0.25 0.25 0.25 0.25]\n",
      " [0.25 0.25 0.25 0.25]]\n",
      "state  0 value  0.0\n",
      "delta \n",
      " 0\n",
      "state  1 value  -1.0\n",
      "delta \n",
      " 1.0\n",
      "state  2 value  -1.0\n",
      "delta \n",
      " 1.0\n",
      "state  3 value  -1.0\n",
      "delta \n",
      " 1.0\n",
      "state  4 value  -1.0\n",
      "delta \n",
      " 1.0\n",
      "state  5 value  -1.0\n",
      "delta \n",
      " 1.0\n",
      "state  6 value  -1.0\n",
      "delta \n",
      " 1.0\n",
      "state  7 value  -1.0\n",
      "delta \n",
      " 1.0\n",
      "state  8 value  -1.0\n",
      "delta \n",
      " 1.0\n",
      "state  9 value  -1.0\n",
      "delta \n",
      " 1.0\n",
      "state  10 value  -1.0\n",
      "delta \n",
      " 1.0\n",
      "state  11 value  -1.0\n",
      "delta \n",
      " 1.0\n",
      "state  12 value  -1.0\n",
      "delta \n",
      " 1.0\n",
      "state  13 value  -1.0\n",
      "delta \n",
      " 1.0\n",
      "state  14 value  -1.0\n",
      "delta \n",
      " 1.0\n",
      "state  15 value  0.0\n",
      "delta \n",
      " 1.0\n",
      "state  0 value  0.0\n",
      "delta \n",
      " 0\n",
      "state  1 value  -1.0\n",
      "delta \n",
      " 0\n",
      "state  2 value  -1.0\n",
      "delta \n",
      " 0\n",
      "state  3 value  -1.0\n",
      "delta \n",
      " 0\n",
      "state  4 value  -1.0\n",
      "delta \n",
      " 0\n",
      "state  5 value  -1.0\n",
      "delta \n",
      " 0\n",
      "state  6 value  -1.0\n",
      "delta \n",
      " 0\n",
      "state  7 value  -1.0\n",
      "delta \n",
      " 0\n",
      "state  8 value  -1.0\n",
      "delta \n",
      " 0\n",
      "state  9 value  -1.0\n",
      "delta \n",
      " 0\n",
      "state  10 value  -1.0\n",
      "delta \n",
      " 0\n",
      "state  11 value  -1.0\n",
      "delta \n",
      " 0\n",
      "state  12 value  -1.0\n",
      "delta \n",
      " 0\n",
      "state  13 value  -1.0\n",
      "delta \n",
      " 0\n",
      "state  14 value  -1.0\n",
      "delta \n",
      " 0\n",
      "state  15 value  0.0\n",
      "delta \n",
      " 0\n",
      "[0.0, -1.0, -1.0, -1.0, -1.0, -1.0, -1.0, -1.0, -1.0, -1.0, -1.0, -1.0, -1.0, -1.0, -1.0, 0.0]\n"
     ]
    }
   ],
   "source": [
    "random_policy = np.ones([env.nS, env.nA]) / env.nA\n",
    "v = policy_eval(random_policy, env)\n",
    "print(v)\n"
   ]
  },
  {
   "cell_type": "code",
   "execution_count": null,
   "metadata": {},
   "outputs": [],
   "source": []
  }
 ],
 "metadata": {
  "kernelspec": {
   "display_name": "Python 3",
   "language": "python",
   "name": "python3"
  },
  "language_info": {
   "codemirror_mode": {
    "name": "ipython",
    "version": 3
   },
   "file_extension": ".py",
   "mimetype": "text/x-python",
   "name": "python",
   "nbconvert_exporter": "python",
   "pygments_lexer": "ipython3",
   "version": "3.7.3"
  }
 },
 "nbformat": 4,
 "nbformat_minor": 2
}
